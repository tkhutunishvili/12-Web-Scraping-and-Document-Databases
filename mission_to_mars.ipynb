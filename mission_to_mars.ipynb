{
 "cells": [
  {
   "cell_type": "code",
   "execution_count": 1,
   "metadata": {},
   "outputs": [],
   "source": [
    "from splinter import Browser\n",
    "from bs4 import BeautifulSoup\n",
    "import pandas as pd\n",
    "import requests\n",
    "from urllib.parse import urlparse\n",
    "import time"
   ]
  },
  {
   "cell_type": "code",
   "execution_count": 2,
   "metadata": {},
   "outputs": [],
   "source": [
    "#Chromedriver\n",
    "executable_path = {'executable_path': '/usr/local/bin/chromedriver'}\n",
    "browser = Browser('chrome', **executable_path, headless=False)"
   ]
  },
  {
   "cell_type": "code",
   "execution_count": 3,
   "metadata": {},
   "outputs": [
    {
     "name": "stdout",
     "output_type": "stream",
     "text": [
      "NASA InSight Lander 'Hears' Martian Winds \n",
      "Vibrations picked up by two spacecraft instruments have provided the first sounds of Martian wind.\n"
     ]
    }
   ],
   "source": [
    "#NASA Mars News\n",
    "url_mars = 'https://mars.nasa.gov/news/'\n",
    "browser.visit(url_mars)\n",
    "#BeautifulSoup Parse News title\n",
    "html = browser.html\n",
    "soup_news = BeautifulSoup(html, 'html.parser')\n",
    "\n",
    "news_title = soup_news.find('div', class_='content_title').text\n",
    "news_p = soup_news.find('div', class_='article_teaser_body').text\n",
    "if news_p == None:\n",
    "    news_p = \"empty news_p\"\n",
    "else:\n",
    "    news_p = soup_news.find('div', class_='article_teaser_body').text\n",
    "print(news_title)\n",
    "print(news_p)"
   ]
  },
  {
   "cell_type": "code",
   "execution_count": 4,
   "metadata": {},
   "outputs": [
    {
     "name": "stdout",
     "output_type": "stream",
     "text": [
      "https://www.jpl.nasa.gov/spaceimages/images/mediumsize/PIA20464_ip.jpg\n"
     ]
    }
   ],
   "source": [
    "#JPL Mars Space Images - Featured Image\n",
    "orig_url_jpl = 'https://www.jpl.nasa.gov/spaceimages/?search=&category=Mars'\n",
    "parsed_uri = urlparse('https://www.jpl.nasa.gov/spaceimages/?search=&category=Mars' )\n",
    "url_jpl = '{uri.scheme}://{uri.netloc}'.format(uri=parsed_uri)\n",
    "browser.visit(orig_url_jpl)\n",
    "\n",
    "time.sleep(3)\n",
    "browser.click_link_by_partial_text('FULL IMAGE')\n",
    "time.sleep(3)\n",
    "browser.find_by_css('a.fancybox-expand')\n",
    "time.sleep(3)\n",
    "\n",
    "html = browser.html\n",
    "soup_jpl = BeautifulSoup(html, 'html.parser')\n",
    "img = soup_jpl.find('img', class_='fancybox-image')['src']\n",
    "featured_image_url = url_jpl + img\n",
    "\n",
    "print(featured_image_url)"
   ]
  },
  {
   "cell_type": "code",
   "execution_count": 5,
   "metadata": {},
   "outputs": [
    {
     "name": "stdout",
     "output_type": "stream",
     "text": [
      "Sol 2251 (2018-12-05), high -15C/5F, low -74C/-101F, pressure at 8.47 hPa, daylight 06:34-18:48\n"
     ]
    }
   ],
   "source": [
    "#Mars Weather\n",
    "url_twitter = \"https://twitter.com/marswxreport?lang=en\"\n",
    "browser.visit(url_twitter)\n",
    "html = browser.html\n",
    "soup_twitter = BeautifulSoup(html, 'html.parser')\n",
    "\n",
    "tweeter = soup_twitter.find('ol', class_='stream-items')\n",
    "mars_weather = tweeter.find('p', class_=\"tweet-text\").text\n",
    "print(mars_weather)"
   ]
  },
  {
   "cell_type": "code",
   "execution_count": 6,
   "metadata": {},
   "outputs": [
    {
     "data": {
      "text/html": [
       "<div>\n",
       "<style scoped>\n",
       "    .dataframe tbody tr th:only-of-type {\n",
       "        vertical-align: middle;\n",
       "    }\n",
       "\n",
       "    .dataframe tbody tr th {\n",
       "        vertical-align: top;\n",
       "    }\n",
       "\n",
       "    .dataframe thead th {\n",
       "        text-align: right;\n",
       "    }\n",
       "</style>\n",
       "<table border=\"1\" class=\"dataframe\">\n",
       "  <thead>\n",
       "    <tr style=\"text-align: right;\">\n",
       "      <th></th>\n",
       "      <th>keym</th>\n",
       "      <th>Value</th>\n",
       "    </tr>\n",
       "  </thead>\n",
       "  <tbody>\n",
       "    <tr>\n",
       "      <th>0</th>\n",
       "      <td>Equatorial Diameter:</td>\n",
       "      <td>6,792 km</td>\n",
       "    </tr>\n",
       "    <tr>\n",
       "      <th>1</th>\n",
       "      <td>Polar Diameter:</td>\n",
       "      <td>6,752 km</td>\n",
       "    </tr>\n",
       "    <tr>\n",
       "      <th>2</th>\n",
       "      <td>Mass:</td>\n",
       "      <td>6.42 x 10^23 kg (10.7% Earth)</td>\n",
       "    </tr>\n",
       "    <tr>\n",
       "      <th>3</th>\n",
       "      <td>Moons:</td>\n",
       "      <td>2 (Phobos &amp; Deimos)</td>\n",
       "    </tr>\n",
       "    <tr>\n",
       "      <th>4</th>\n",
       "      <td>Orbit Distance:</td>\n",
       "      <td>227,943,824 km (1.52 AU)</td>\n",
       "    </tr>\n",
       "    <tr>\n",
       "      <th>5</th>\n",
       "      <td>Orbit Period:</td>\n",
       "      <td>687 days (1.9 years)</td>\n",
       "    </tr>\n",
       "    <tr>\n",
       "      <th>6</th>\n",
       "      <td>Surface Temperature:</td>\n",
       "      <td>-153 to 20 °C</td>\n",
       "    </tr>\n",
       "    <tr>\n",
       "      <th>7</th>\n",
       "      <td>First Record:</td>\n",
       "      <td>2nd millennium BC</td>\n",
       "    </tr>\n",
       "    <tr>\n",
       "      <th>8</th>\n",
       "      <td>Recorded By:</td>\n",
       "      <td>Egyptian astronomers</td>\n",
       "    </tr>\n",
       "  </tbody>\n",
       "</table>\n",
       "</div>"
      ],
      "text/plain": [
       "                   keym                          Value\n",
       "0  Equatorial Diameter:                       6,792 km\n",
       "1       Polar Diameter:                       6,752 km\n",
       "2                 Mass:  6.42 x 10^23 kg (10.7% Earth)\n",
       "3                Moons:            2 (Phobos & Deimos)\n",
       "4       Orbit Distance:       227,943,824 km (1.52 AU)\n",
       "5         Orbit Period:           687 days (1.9 years)\n",
       "6  Surface Temperature:                  -153 to 20 °C\n",
       "7         First Record:              2nd millennium BC\n",
       "8          Recorded By:           Egyptian astronomers"
      ]
     },
     "execution_count": 6,
     "metadata": {},
     "output_type": "execute_result"
    }
   ],
   "source": [
    "#Mars Facts\n",
    "url_mars_facts = \"https://space-facts.com/mars/\"\n",
    "browser.visit(url_mars_facts)\n",
    "html = browser.html\n",
    "soup_mars_facts = BeautifulSoup(html, 'html.parser')\n",
    "\n",
    "table_mars_facts = soup_mars_facts.find('table', class_='tablepress tablepress-id-mars')\n",
    "col1 = table_mars_facts.find_all('td', class_='column-1')\n",
    "col2 = table_mars_facts.find_all('td', class_='column-2')\n",
    "\n",
    "keys = []\n",
    "values = []\n",
    "\n",
    "for row in col1:\n",
    "    keym = row.text.strip()\n",
    "    keys.append(keym)\n",
    "\n",
    "for row in col2:\n",
    "    value = row.text.strip()\n",
    "    values.append(str(value))\n",
    "\n",
    "mars_facts = pd.DataFrame({\n",
    "    \"keym\":keys,\n",
    "    \"Value\":values\n",
    "    })\n",
    "\n",
    "html_mars_facts = mars_facts.to_html(header=False, index=False)\n",
    "mars_facts"
   ]
  },
  {
   "cell_type": "code",
   "execution_count": 7,
   "metadata": {},
   "outputs": [
    {
     "data": {
      "text/plain": [
       "[{'title': 'Cerberus Hemisphere Enhanced',\n",
       "  'img_url': 'https://astrogeology.usgs.gov/cache/images/cfa62af2557222a02478f1fcd781d445_cerberus_enhanced.tif_full.jpg'},\n",
       " {'title': 'Schiaparelli Hemisphere Enhanced',\n",
       "  'img_url': 'https://astrogeology.usgs.gov/cache/images/3cdd1cbf5e0813bba925c9030d13b62e_schiaparelli_enhanced.tif_full.jpg'},\n",
       " {'title': 'Syrtis Major Hemisphere Enhanced',\n",
       "  'img_url': 'https://astrogeology.usgs.gov/cache/images/ae209b4e408bb6c3e67b6af38168cf28_syrtis_major_enhanced.tif_full.jpg'},\n",
       " {'title': 'Valles Marineris Hemisphere Enhanced',\n",
       "  'img_url': 'https://astrogeology.usgs.gov/cache/images/7cf2da4bf549ed01c17f206327be4db7_valles_marineris_enhanced.tif_full.jpg'}]"
      ]
     },
     "execution_count": 7,
     "metadata": {},
     "output_type": "execute_result"
    }
   ],
   "source": [
    "#Mars Hemispheres\n",
    "url_hemispheres = \"https://astrogeology.usgs.gov/search/results?q=hemisphere+enhanced&k1=target&v1=Mars\"\n",
    "parsed_uri_hemispheres = urlparse(url_hemispheres)\n",
    "url_hemispheres_p = '{uri.scheme}://{uri.netloc}'.format(uri=parsed_uri_hemispheres)\n",
    "browser.visit(url_hemispheres)\n",
    "html = browser.html\n",
    "soup_hemispheres = BeautifulSoup(html, 'html.parser')\n",
    "\n",
    "#adding title and image in to dictinary and dictanary in to list\n",
    "hemisphere_image_urls = []\n",
    "all_itmes = soup_hemispheres.find_all(\"div\", class_=\"item\")\n",
    "\n",
    "for item in all_itmes:\n",
    "    dict_img = {}\n",
    "    title = item.find(\"h3\").text\n",
    "    link = item.find(\"div\", class_=\"description\").a[\"href\"]\n",
    "    full_link = url_hemispheres_p + link\n",
    "    browser.visit(full_link)\n",
    "    html = browser.html\n",
    "    soup_img_hemispheres = BeautifulSoup(html, 'html.parser')\n",
    "    url = soup_img_hemispheres.find(\"img\", class_=\"wide-image\")[\"src\"]\n",
    "    full_img_url = url_hemispheres_p+url\n",
    "    \n",
    "    dict_img[\"title\"] = title\n",
    "    dict_img[\"img_url\"] = full_img_url\n",
    "    \n",
    "    hemisphere_image_urls.append(dict_img)\n",
    "hemisphere_image_urls"
   ]
  },
  {
   "cell_type": "code",
   "execution_count": null,
   "metadata": {},
   "outputs": [],
   "source": []
  }
 ],
 "metadata": {
  "kernelspec": {
   "display_name": "Python 3",
   "language": "python",
   "name": "python3"
  },
  "language_info": {
   "codemirror_mode": {
    "name": "ipython",
    "version": 3
   },
   "file_extension": ".py",
   "mimetype": "text/x-python",
   "name": "python",
   "nbconvert_exporter": "python",
   "pygments_lexer": "ipython3",
   "version": "3.6.5"
  }
 },
 "nbformat": 4,
 "nbformat_minor": 2
}
